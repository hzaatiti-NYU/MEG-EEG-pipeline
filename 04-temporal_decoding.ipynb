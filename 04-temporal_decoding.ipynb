{
 "cells": [
  {
   "cell_type": "code",
   "execution_count": 1,
   "id": "29f7041b-189d-4fa0-ba84-bde6360e0ebf",
   "metadata": {},
   "outputs": [
    {
     "data": {
      "text/html": [
       "<table class=\"table table-hover table-striped table-sm table-responsive small\">\n",
       "    <tr>\n",
       "        <th>Number of events</th>\n",
       "        <td>132</td>\n",
       "    </tr>\n",
       "    <tr>\n",
       "        <th>Events</th>\n",
       "        \n",
       "        <td>1: 132</td>\n",
       "        \n",
       "    </tr>\n",
       "    <tr>\n",
       "        <th>Time range</th>\n",
       "        <td>0.000 – 4.999 s</td>\n",
       "    </tr>\n",
       "    <tr>\n",
       "        <th>Baseline</th>\n",
       "        <td>0.000 – 0.000 s</td>\n",
       "    </tr>\n",
       "</table>"
      ],
      "text/plain": [
       "<EpochsFIF |  132 events (all good), 0 – 4.999 s, baseline 0 – 0 s, ~1.26 GB, data loaded,\n",
       " '1': 132>"
      ]
     },
     "execution_count": 1,
     "metadata": {},
     "output_type": "execute_result"
    }
   ],
   "source": [
    "# Author: Saeed Zahran\n",
    "# Multivariate Statistics (Decoding) on MEG Data\n",
    "\n",
    "import pathlib\n",
    "import matplotlib\n",
    "import matplotlib.pyplot as plt\n",
    "import mne\n",
    "\n",
    "matplotlib.use('Qt5Agg')\n",
    "mne.set_log_level('warning')\n",
    "\n",
    "# Load epochs\n",
    "epochs = mne.read_epochs(pathlib.Path('out_data') / 'epochs_epo.fif')\n",
    "epochs.apply_baseline((0, 0))"
   ]
  },
  {
   "cell_type": "code",
   "execution_count": 2,
   "id": "936af456-3318-436a-b4fb-2bdcd52aab9f",
   "metadata": {},
   "outputs": [
    {
     "name": "stderr",
     "output_type": "stream",
     "text": [
      "C:\\Users\\User\\AppData\\Local\\Temp\\ipykernel_20112\\2035198981.py:16: RuntimeWarning: Estimated head radius (11.2 cm) is above the 99th percentile for adult head size.\n",
      "  evoked_diff.plot(gfp=True)\n",
      "C:\\Users\\User\\AppData\\Local\\Temp\\ipykernel_20112\\2035198981.py:17: RuntimeWarning: Estimated head radius (11.2 cm) is above the 99th percentile for adult head size.\n",
      "  mne.viz.plot_compare_evokeds(\n"
     ]
    }
   ],
   "source": [
    "# Calculate empirical evoked difference\n",
    "\n",
    "event_id = {\n",
    "    \"eyes_closed\": 1,\n",
    "    \"eyes_open\": 2,\n",
    "}\n",
    "epochs_closed = epochs[event_id[\"eyes_closed\"]]\n",
    "epochs_open = epochs[event_id[\"eyes_open\"]]\n",
    "\n",
    "evoked_diff = mne.combine_evoked(\n",
    "    [epochs_closed.average(),\n",
    "     epochs_open.average()],\n",
    "    weights=[1, -1]  # Subtraction\n",
    ")\n",
    "\n",
    "evoked_diff.plot(gfp=True)\n",
    "mne.viz.plot_compare_evokeds(\n",
    "    [epochs_closed.average(),\n",
    "     epochs_open.average(),\n",
    "     evoked_diff]\n",
    ")\n",
    "plt.show()\n"
   ]
  },
  {
   "cell_type": "code",
   "execution_count": null,
   "id": "a187f6b6-4486-41ed-b209-f09cf0717d4d",
   "metadata": {},
   "outputs": [],
   "source": []
  }
 ],
 "metadata": {
  "kernelspec": {
   "display_name": "Python 3 (ipykernel)",
   "language": "python",
   "name": "python3"
  },
  "language_info": {
   "codemirror_mode": {
    "name": "ipython",
    "version": 3
   },
   "file_extension": ".py",
   "mimetype": "text/x-python",
   "name": "python",
   "nbconvert_exporter": "python",
   "pygments_lexer": "ipython3",
   "version": "3.12.2"
  }
 },
 "nbformat": 4,
 "nbformat_minor": 5
}
