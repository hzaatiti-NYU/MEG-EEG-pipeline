{
 "cells": [
  {
   "cell_type": "code",
   "execution_count": 1,
   "id": "fb339b65-1048-4834-8923-e76f9009e5dd",
   "metadata": {},
   "outputs": [],
   "source": [
    "# Author: Saeed Zahran\n",
    "import pathlib\n",
    "import matplotlib\n",
    "import numpy as np\n",
    "import mne\n",
    "import matplotlib.pyplot as plt\n",
    "\n",
    "matplotlib.use('Qt5Agg')\n",
    "mne.set_log_level('warning')\n",
    "\n",
    "epochs = mne.read_epochs(pathlib.Path('out_data') / 'epochs_epo.fif')"
   ]
  },
  {
   "cell_type": "code",
   "execution_count": 2,
   "id": "53497c7c-46a3-4ed8-b107-ac5aebd51aec",
   "metadata": {},
   "outputs": [
    {
     "data": {
      "text/html": [
       "<details open>\n",
       "    <summary><strong>General</strong></summary>\n",
       "    <table class=\"table table-hover table-striped table-sm table-responsive small\">\n",
       "        <tr>\n",
       "            <th>Measurement date</th>\n",
       "            \n",
       "            <td>March 26, 2024  09:03:13 GMT</td>\n",
       "            \n",
       "        </tr>\n",
       "        <tr>\n",
       "            <th>Experimenter</th>\n",
       "            \n",
       "            <td>Unknown</td>\n",
       "            \n",
       "        </tr>\n",
       "        <tr>\n",
       "            <th>Participant</th>\n",
       "            \n",
       "            <td>Unknown</td>\n",
       "            \n",
       "        </tr>\n",
       "    </table>\n",
       "    </details>\n",
       "    <details open>\n",
       "        <summary><strong>Channels</strong></summary>\n",
       "        <table class=\"table table-hover table-striped table-sm table-responsive small\">\n",
       "            <tr>\n",
       "                <th>Digitized points</th>\n",
       "                \n",
       "                <td>2350 points</td>\n",
       "                \n",
       "            </tr>\n",
       "            <tr>\n",
       "                <th>Good channels</th>\n",
       "                <td>207 Magnetometers, 17 Reference Magnetometers, 32 misc, 1 Stimulus</td>\n",
       "            </tr>\n",
       "            <tr>\n",
       "                <th>Bad channels</th>\n",
       "                <td>None</td>\n",
       "            </tr>\n",
       "            <tr>\n",
       "                <th>EOG channels</th>\n",
       "                <td>Not available</td>\n",
       "            </tr>\n",
       "            <tr>\n",
       "                <th>ECG channels</th>\n",
       "                <td>Not available</td>\n",
       "            </tr>\n",
       "        </table>\n",
       "        </details>\n",
       "        <details open>\n",
       "            <summary><strong>Data</strong></summary>\n",
       "            <table class=\"table table-hover table-striped table-sm table-responsive small\">\n",
       "                \n",
       "                <tr>\n",
       "                    <th>Sampling frequency</th>\n",
       "                    <td>100.00 Hz</td>\n",
       "                </tr>\n",
       "                \n",
       "                \n",
       "                <tr>\n",
       "                    <th>Highpass</th>\n",
       "                    <td>0.10 Hz</td>\n",
       "                </tr>\n",
       "                \n",
       "                \n",
       "                <tr>\n",
       "                    <th>Lowpass</th>\n",
       "                    <td>40.00 Hz</td>\n",
       "                </tr>\n",
       "                \n",
       "                \n",
       "                \n",
       "                <tr>\n",
       "                    <th>Filenames</th>\n",
       "                    <td>GS_01_analysis_01-raw.fif&lt;br&gt;GS_02_analysis_01-raw.fif</td>\n",
       "                </tr>\n",
       "                \n",
       "                \n",
       "                <tr>\n",
       "                    <th>Duration</th>\n",
       "                    <td>00:11:02 (HH:MM:SS)</td>\n",
       "                </tr>\n",
       "                \n",
       "            </table>\n",
       "            </details>"
      ],
      "text/plain": [
       "<Raw | GS_01_analysis_01-raw.fif, 257 x 66200 (662.0 s), ~130.8 MB, data loaded>"
      ]
     },
     "execution_count": 2,
     "metadata": {},
     "output_type": "execute_result"
    }
   ],
   "source": [
    "# Load the two raw data files\n",
    "raw1 = mne.io.read_raw_fif('GS_01_analysis_01-raw.fif', preload=True)\n",
    "raw2 = mne.io.read_raw_fif('GS_02_analysis_01-raw.fif', preload=True)\n",
    "raw = mne.io.concatenate_raws([raw1, raw2])\n",
    "raw.load_data().resample(100)\n",
    "\n",
    "raw.filter(l_freq=0.1, h_freq=40)"
   ]
  },
  {
   "cell_type": "code",
   "execution_count": 3,
   "id": "fb0e82b0-27c0-473e-a35d-fcd00b038eed",
   "metadata": {},
   "outputs": [
    {
     "name": "stderr",
     "output_type": "stream",
     "text": [
      "C:\\Users\\User\\AppData\\Local\\Temp\\ipykernel_13780\\1037922862.py:2: RuntimeWarning: Estimated head radius (11.2 cm) is above the 99th percentile for adult head size.\n",
      "  ecg_evoked.plot_joint()\n",
      "C:\\Users\\User\\AppData\\Local\\Temp\\ipykernel_13780\\1037922862.py:2: RuntimeWarning: Estimated head radius (11.2 cm) is above the 99th percentile for adult head size.\n",
      "  ecg_evoked.plot_joint()\n"
     ]
    },
    {
     "data": {
      "text/plain": [
       "<Figure size 800x420 with 6 Axes>"
      ]
     },
     "execution_count": 3,
     "metadata": {},
     "output_type": "execute_result"
    }
   ],
   "source": [
    "ecg_evoked = mne.preprocessing.create_ecg_epochs(raw).average()\n",
    "ecg_evoked.plot_joint()"
   ]
  },
  {
   "cell_type": "code",
   "execution_count": 4,
   "id": "31d58dd0-8e05-430f-93d6-cee8c166f8da",
   "metadata": {},
   "outputs": [
    {
     "name": "stderr",
     "output_type": "stream",
     "text": [
      "C:\\Users\\User\\AppData\\Local\\Temp\\ipykernel_13780\\679476529.py:2: RuntimeWarning: Estimated head radius (11.2 cm) is above the 99th percentile for adult head size.\n",
      "  ecg_evoked.plot_joint()\n",
      "C:\\Users\\User\\AppData\\Local\\Temp\\ipykernel_13780\\679476529.py:2: RuntimeWarning: Estimated head radius (11.2 cm) is above the 99th percentile for adult head size.\n",
      "  ecg_evoked.plot_joint()\n"
     ]
    },
    {
     "data": {
      "text/plain": [
       "<Figure size 800x420 with 6 Axes>"
      ]
     },
     "execution_count": 4,
     "metadata": {},
     "output_type": "execute_result"
    }
   ],
   "source": [
    "ecg_evoked.apply_baseline((None, None))\n",
    "ecg_evoked.plot_joint()"
   ]
  },
  {
   "cell_type": "code",
   "execution_count": 6,
   "id": "4830452d-191b-4ae0-86f7-92774ba40392",
   "metadata": {},
   "outputs": [
    {
     "name": "stderr",
     "output_type": "stream",
     "text": [
      "C:\\Users\\User\\AppData\\Local\\Temp\\ipykernel_13780\\2931477865.py:2: RuntimeWarning: Estimated head radius (11.2 cm) is above the 99th percentile for adult head size.\n",
      "  mne.viz.plot_projs_topomap(projs, info=raw.info)\n"
     ]
    },
    {
     "data": {
      "text/plain": [
       "<MNEFigure size 292x220 with 1 Axes>"
      ]
     },
     "execution_count": 6,
     "metadata": {},
     "output_type": "execute_result"
    }
   ],
   "source": [
    "projs, events = mne.preprocessing.compute_proj_ecg(raw, n_grad=1, n_mag=1, n_eeg=1, reject=None)\n",
    "mne.viz.plot_projs_topomap(projs, info=raw.info)"
   ]
  },
  {
   "cell_type": "code",
   "execution_count": null,
   "id": "d76cc699-629f-47af-b0ef-c5febceeae0b",
   "metadata": {},
   "outputs": [],
   "source": [
    "projs =  projs\n",
    "\n",
    "epochs.add_proj(projs)\n",
    "epochs_cleaned = epochs.copy().apply_proj()\n",
    "epochs_cleaned.plot()"
   ]
  },
  {
   "cell_type": "code",
   "execution_count": null,
   "id": "92c628b6-714a-45e7-83bd-48a712ba98f5",
   "metadata": {},
   "outputs": [],
   "source": []
  }
 ],
 "metadata": {
  "kernelspec": {
   "display_name": "Python 3 (ipykernel)",
   "language": "python",
   "name": "python3"
  },
  "language_info": {
   "codemirror_mode": {
    "name": "ipython",
    "version": 3
   },
   "file_extension": ".py",
   "mimetype": "text/x-python",
   "name": "python",
   "nbconvert_exporter": "python",
   "pygments_lexer": "ipython3",
   "version": "3.12.2"
  }
 },
 "nbformat": 4,
 "nbformat_minor": 5
}
