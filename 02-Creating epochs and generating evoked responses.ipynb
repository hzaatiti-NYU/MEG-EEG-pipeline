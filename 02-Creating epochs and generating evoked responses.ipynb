{
 "cells": [
  {
   "cell_type": "code",
   "execution_count": 7,
   "id": "1c42705f-645c-496c-ab42-79607fc916cc",
   "metadata": {},
   "outputs": [],
   "source": [
    "# Author: Saeed Zahran\n",
    "# Creating epochs and generating evoked responses\n",
    "\n",
    "import pathlib\n",
    "import matplotlib\n",
    "\n",
    "import mne\n",
    "import matplotlib.pyplot as plt\n",
    "matplotlib.use('Qt5Agg')\n",
    "from pathlib import Path\n",
    "\n",
    "import numpy as np\n",
    "import scipy.ndimage"
   ]
  },
  {
   "cell_type": "code",
   "execution_count": 8,
   "id": "b8ec2ffc-e3e1-4961-a337-2f05bea9d3ad",
   "metadata": {},
   "outputs": [
    {
     "name": "stdout",
     "output_type": "stream",
     "text": [
      "Opening raw data file GS_01_analysis_01-raw.fif...\n",
      "    Range : 0 ... 119999 =      0.000 ...   119.999 secs\n",
      "Ready.\n",
      "Reading 0 ... 119999  =      0.000 ...   119.999 secs...\n",
      "Opening raw data file GS_02_analysis_01-raw.fif...\n",
      "    Range : 0 ... 541999 =      0.000 ...   541.999 secs\n",
      "Ready.\n",
      "Reading 0 ... 541999  =      0.000 ...   541.999 secs...\n"
     ]
    }
   ],
   "source": [
    "# Load the two raw data files\n",
    "raw1 = mne.io.read_raw_fif('GS_01_analysis_01-raw.fif', preload=True)\n",
    "raw2 = mne.io.read_raw_fif('GS_02_analysis_01-raw.fif', preload=True)\n",
    "raw = mne.io.concatenate_raws([raw1, raw2])"
   ]
  },
  {
   "cell_type": "code",
   "execution_count": 9,
   "id": "b1f5737f-0497-44e2-9203-c5aa44fa9955",
   "metadata": {},
   "outputs": [
    {
     "name": "stdout",
     "output_type": "stream",
     "text": [
      "Filtering raw data in 2 contiguous segments\n",
      "Setting up band-pass filter from 0.1 - 40 Hz\n",
      "\n",
      "FIR filter parameters\n",
      "---------------------\n",
      "Designing a one-pass, zero-phase, non-causal bandpass filter:\n",
      "- Windowed time-domain design (firwin) method\n",
      "- Hamming window with 0.0194 passband ripple and 53 dB stopband attenuation\n",
      "- Lower passband edge: 0.10\n",
      "- Lower transition bandwidth: 0.10 Hz (-6 dB cutoff frequency: 0.05 Hz)\n",
      "- Upper passband edge: 40.00 Hz\n",
      "- Upper transition bandwidth: 10.00 Hz (-6 dB cutoff frequency: 45.00 Hz)\n",
      "- Filter length: 33001 samples (33.001 s)\n",
      "\n"
     ]
    },
    {
     "name": "stderr",
     "output_type": "stream",
     "text": [
      "[Parallel(n_jobs=1)]: Done  17 tasks      | elapsed:    0.7s\n",
      "[Parallel(n_jobs=1)]: Done  71 tasks      | elapsed:    4.1s\n",
      "[Parallel(n_jobs=1)]: Done 161 tasks      | elapsed:    8.9s\n"
     ]
    },
    {
     "data": {
      "text/html": [
       "<details open>\n",
       "    <summary><strong>General</strong></summary>\n",
       "    <table class=\"table table-hover table-striped table-sm table-responsive small\">\n",
       "        <tr>\n",
       "            <th>Measurement date</th>\n",
       "            \n",
       "            <td>March 26, 2024  09:03:13 GMT</td>\n",
       "            \n",
       "        </tr>\n",
       "        <tr>\n",
       "            <th>Experimenter</th>\n",
       "            \n",
       "            <td>Unknown</td>\n",
       "            \n",
       "        </tr>\n",
       "        <tr>\n",
       "            <th>Participant</th>\n",
       "            \n",
       "            <td>Unknown</td>\n",
       "            \n",
       "        </tr>\n",
       "    </table>\n",
       "    </details>\n",
       "    <details open>\n",
       "        <summary><strong>Channels</strong></summary>\n",
       "        <table class=\"table table-hover table-striped table-sm table-responsive small\">\n",
       "            <tr>\n",
       "                <th>Digitized points</th>\n",
       "                \n",
       "                <td>2350 points</td>\n",
       "                \n",
       "            </tr>\n",
       "            <tr>\n",
       "                <th>Good channels</th>\n",
       "                <td>207 Magnetometers, 17 Reference Magnetometers, 32 misc, 1 Stimulus</td>\n",
       "            </tr>\n",
       "            <tr>\n",
       "                <th>Bad channels</th>\n",
       "                <td>None</td>\n",
       "            </tr>\n",
       "            <tr>\n",
       "                <th>EOG channels</th>\n",
       "                <td>Not available</td>\n",
       "            </tr>\n",
       "            <tr>\n",
       "                <th>ECG channels</th>\n",
       "                <td>Not available</td>\n",
       "            </tr>\n",
       "        </table>\n",
       "        </details>\n",
       "        <details open>\n",
       "            <summary><strong>Data</strong></summary>\n",
       "            <table class=\"table table-hover table-striped table-sm table-responsive small\">\n",
       "                \n",
       "                <tr>\n",
       "                    <th>Sampling frequency</th>\n",
       "                    <td>1000.00 Hz</td>\n",
       "                </tr>\n",
       "                \n",
       "                \n",
       "                <tr>\n",
       "                    <th>Highpass</th>\n",
       "                    <td>0.10 Hz</td>\n",
       "                </tr>\n",
       "                \n",
       "                \n",
       "                <tr>\n",
       "                    <th>Lowpass</th>\n",
       "                    <td>40.00 Hz</td>\n",
       "                </tr>\n",
       "                \n",
       "                \n",
       "                \n",
       "                <tr>\n",
       "                    <th>Filenames</th>\n",
       "                    <td>GS_01_analysis_01-raw.fif&lt;br&gt;GS_02_analysis_01-raw.fif</td>\n",
       "                </tr>\n",
       "                \n",
       "                \n",
       "                <tr>\n",
       "                    <th>Duration</th>\n",
       "                    <td>00:11:02 (HH:MM:SS)</td>\n",
       "                </tr>\n",
       "                \n",
       "            </table>\n",
       "            </details>"
      ],
      "text/plain": [
       "<Raw | GS_01_analysis_01-raw.fif, 257 x 662000 (662.0 s), ~1.27 GB, data loaded>"
      ]
     },
     "execution_count": 9,
     "metadata": {},
     "output_type": "execute_result"
    }
   ],
   "source": [
    "raw.filter(l_freq=0.1, h_freq=40)"
   ]
  },
  {
   "cell_type": "code",
   "execution_count": 12,
   "id": "53e48d82-79cb-4ca5-9baf-0d91ffe716ad",
   "metadata": {},
   "outputs": [
    {
     "name": "stdout",
     "output_type": "stream",
     "text": [
      "2 events found on stim channel STI 014\n",
      "Event IDs: [1 2]\n"
     ]
    }
   ],
   "source": [
    "events = mne.find_events(raw, stim_channel=\"STI 014\")\n",
    "event_id = {\n",
    "    \"eyes_closed\": 1,\n",
    "    \"eyes_open\": 2,\n",
    "}"
   ]
  },
  {
   "cell_type": "code",
   "execution_count": 13,
   "id": "ba8c0a39-e53e-4f6a-a29b-27ddc90abb5d",
   "metadata": {},
   "outputs": [
    {
     "name": "stdout",
     "output_type": "stream",
     "text": [
      "Not setting metadata\n",
      "132 matching events found\n",
      "No baseline correction applied\n",
      "0 projection items activated\n",
      "Using data from preloaded Raw for 132 events and 5000 original time points ...\n",
      "0 bad epochs dropped\n",
      "Applying baseline correction (mode: mean)\n"
     ]
    },
    {
     "data": {
      "text/plain": [
       "<mne_qt_browser._pg_figure.MNEQtBrowser at 0x24cfdcdc4d0>"
      ]
     },
     "execution_count": 13,
     "metadata": {},
     "output_type": "execute_result"
    }
   ],
   "source": [
    "# Define the duration of each epoch (in seconds)\n",
    "epoch_duration = 5\n",
    "\n",
    "# Create fixed-length epochs for the entire concatenated raw data\n",
    "epochs = mne.make_fixed_length_epochs(raw, duration=epoch_duration, preload=True)\n",
    "\n",
    "\n",
    "\n",
    "# Apply baseline correction\n",
    "epochs.apply_baseline((0, 0))\n",
    "\n",
    "epochs.plot()"
   ]
  },
  {
   "cell_type": "code",
   "execution_count": 14,
   "id": "536de8c8-ce06-42a0-86b5-4b90602195e9",
   "metadata": {},
   "outputs": [
    {
     "name": "stdout",
     "output_type": "stream",
     "text": [
      "Not setting metadata\n",
      "132 matching events found\n",
      "No baseline correction applied\n",
      "0 projection items activated\n",
      "Not setting metadata\n",
      "132 matching events found\n",
      "No baseline correction applied\n",
      "0 projection items activated\n",
      "combining channels using RMS (mag channels)\n",
      "combining channels using \"gfp\"\n",
      "Dropped 0 epochs: \n",
      "The following epochs were marked as bad and are dropped:\n",
      "[]\n",
      "Channels marked as bad:\n",
      "none\n",
      "Dropped 0 epochs: \n",
      "The following epochs were marked as bad and are dropped:\n",
      "[]\n",
      "Channels marked as bad:\n",
      "none\n",
      "Dropped 0 epochs: \n",
      "The following epochs were marked as bad and are dropped:\n",
      "[]\n",
      "Channels marked as bad:\n",
      "none\n"
     ]
    },
    {
     "data": {
      "text/plain": [
       "[<Figure size 640x480 with 3 Axes>, <Figure size 640x480 with 3 Axes>]"
      ]
     },
     "execution_count": 14,
     "metadata": {},
     "output_type": "execute_result"
    }
   ],
   "source": [
    "epochs.plot_image()"
   ]
  },
  {
   "cell_type": "code",
   "execution_count": 15,
   "id": "a2ec23bb-1251-4874-bb4e-e3560ae4e0ad",
   "metadata": {},
   "outputs": [
    {
     "name": "stdout",
     "output_type": "stream",
     "text": [
      "Embedding : jquery-3.6.0.min.js\n",
      "Embedding : bootstrap.bundle.min.js\n",
      "Embedding : bootstrap.min.css\n",
      "Embedding : bootstrap-table/bootstrap-table.min.js\n",
      "Embedding : bootstrap-table/bootstrap-table.min.css\n",
      "Embedding : bootstrap-table/bootstrap-table-copy-rows.min.js\n",
      "Embedding : bootstrap-table/bootstrap-table-export.min.js\n",
      "Embedding : bootstrap-table/tableExport.min.js\n",
      "Embedding : bootstrap-icons/bootstrap-icons.mne.min.css\n",
      "Embedding : highlightjs/highlight.min.js\n",
      "Embedding : highlightjs/atom-one-dark-reasonable.min.css\n",
      "    Using multitaper spectrum estimation with 7 DPSS windows\n",
      "Plotting power spectral density (dB=True).\n",
      "Averaging across epochs...\n"
     ]
    },
    {
     "name": "stderr",
     "output_type": "stream",
     "text": [
      "C:\\Users\\User\\AppData\\Local\\Temp\\ipykernel_17040\\743346917.py:2: UserWarning: Zero value in spectrum for channels MEG 053, MEG 067, MEG 102, MEG 137, MEG 154, MEG 181, MEG 182, MEG 183\n",
      "  report.add_epochs(epochs=epochs, title='Epochs from \"epochs\"')\n",
      "C:\\Users\\User\\AppData\\Local\\Temp\\ipykernel_17040\\743346917.py:2: RuntimeWarning: Estimated head radius (11.2 cm) is above the 99th percentile for adult head size.\n",
      "  report.add_epochs(epochs=epochs, title='Epochs from \"epochs\"')\n",
      "C:\\Users\\User\\AppData\\Local\\Temp\\ipykernel_17040\\743346917.py:2: UserWarning: Infinite value in PSD for channels MEG 053, MEG 067, MEG 102, MEG 137, MEG 154, MEG 181, MEG 182, MEG 183.\n",
      "These channels might be dead.\n",
      "  report.add_epochs(epochs=epochs, title='Epochs from \"epochs\"')\n"
     ]
    },
    {
     "name": "stdout",
     "output_type": "stream",
     "text": [
      "Saving report to : C:\\Users\\User\\Documents\\NYU\\MEG-EEG-pipeline\\report_epochs.html\n"
     ]
    },
    {
     "data": {
      "text/plain": [
       "'C:\\\\Users\\\\User\\\\Documents\\\\NYU\\\\MEG-EEG-pipeline\\\\report_epochs.html'"
      ]
     },
     "execution_count": 15,
     "metadata": {},
     "output_type": "execute_result"
    }
   ],
   "source": [
    "report = mne.Report(title=\"Epochs\")\n",
    "report.add_epochs(epochs=epochs, title='Epochs from \"epochs\"')\n",
    "report.save(\"report_epochs.html\", overwrite=True)"
   ]
  },
  {
   "cell_type": "code",
   "execution_count": 17,
   "id": "f92320bf-0126-4017-bd11-6e3307fec396",
   "metadata": {},
   "outputs": [
    {
     "name": "stdout",
     "output_type": "stream",
     "text": [
      "Overwriting existing file.\n",
      "Overwriting existing file.\n"
     ]
    }
   ],
   "source": [
    "# Saving epochs\n",
    "epochs.save(pathlib.Path('out_data') / 'epochs_epo.fif',\n",
    "            overwrite=True)"
   ]
  },
  {
   "cell_type": "code",
   "execution_count": 18,
   "id": "1db1314e-b568-440c-93f4-7943b67687ba",
   "metadata": {},
   "outputs": [],
   "source": [
    "# Extract epochs for \"eyes closed\" and \"eyes open\" events using event IDs\n",
    "epochs_closed = epochs[event_id[\"eyes_closed\"]]\n",
    "epochs_open = epochs[event_id[\"eyes_open\"]]"
   ]
  },
  {
   "cell_type": "code",
   "execution_count": 19,
   "id": "15052cc6-d863-4794-85e9-d9b7340325fa",
   "metadata": {},
   "outputs": [
    {
     "name": "stderr",
     "output_type": "stream",
     "text": [
      "C:\\Users\\User\\AppData\\Local\\Temp\\ipykernel_17040\\3385494830.py:5: RuntimeWarning: Estimated head radius (11.2 cm) is above the 99th percentile for adult head size.\n",
      "  evoked_closed.plot(spatial_colors=True)\n"
     ]
    },
    {
     "data": {
      "text/plain": [
       "<Figure size 640x300 with 2 Axes>"
      ]
     },
     "execution_count": 19,
     "metadata": {},
     "output_type": "execute_result"
    }
   ],
   "source": [
    "# Creating evoked data\n",
    "evoked_closed = epochs_closed.average()\n",
    "evoked_open = epochs_open.average()\n",
    "\n",
    "evoked_closed.plot(spatial_colors=True)"
   ]
  },
  {
   "cell_type": "code",
   "execution_count": 20,
   "id": "dabf10a4-a1ee-48bc-b05a-a54a3dfd5f81",
   "metadata": {},
   "outputs": [
    {
     "ename": "FileExistsError",
     "evalue": "Destination file exists. Please use option \"overwrite=True\" to force overwriting.",
     "output_type": "error",
     "traceback": [
      "\u001b[1;31m---------------------------------------------------------------------------\u001b[0m",
      "\u001b[1;31mFileExistsError\u001b[0m                           Traceback (most recent call last)",
      "Cell \u001b[1;32mIn[20], line 2\u001b[0m\n\u001b[0;32m      1\u001b[0m \u001b[38;5;66;03m# Saving evoked data\u001b[39;00m\n\u001b[1;32m----> 2\u001b[0m \u001b[43mmne\u001b[49m\u001b[38;5;241;43m.\u001b[39;49m\u001b[43mwrite_evokeds\u001b[49m\u001b[43m(\u001b[49m\u001b[43mfname\u001b[49m\u001b[38;5;241;43m=\u001b[39;49m\u001b[43mpathlib\u001b[49m\u001b[38;5;241;43m.\u001b[39;49m\u001b[43mPath\u001b[49m\u001b[43m(\u001b[49m\u001b[38;5;124;43m'\u001b[39;49m\u001b[38;5;124;43mout_data\u001b[39;49m\u001b[38;5;124;43m'\u001b[39;49m\u001b[43m)\u001b[49m\u001b[43m \u001b[49m\u001b[38;5;241;43m/\u001b[39;49m\u001b[43m \u001b[49m\u001b[38;5;124;43m'\u001b[39;49m\u001b[38;5;124;43mevokeds_ave.fif\u001b[39;49m\u001b[38;5;124;43m'\u001b[39;49m\u001b[43m,\u001b[49m\n\u001b[0;32m      3\u001b[0m \u001b[43m                  \u001b[49m\u001b[43mevoked\u001b[49m\u001b[38;5;241;43m=\u001b[39;49m\u001b[43m[\u001b[49m\u001b[43mevoked_closed\u001b[49m\u001b[43m,\u001b[49m\u001b[43m \u001b[49m\u001b[43mevoked_open\u001b[49m\u001b[43m]\u001b[49m\u001b[43m)\u001b[49m\n",
      "File \u001b[1;32m<decorator-gen-227>:12\u001b[0m, in \u001b[0;36mwrite_evokeds\u001b[1;34m(fname, evoked, on_mismatch, overwrite, verbose)\u001b[0m\n",
      "File \u001b[1;32m~\\anaconda3\\envs\\mne\\Lib\\site-packages\\mne\\evoked.py:1980\u001b[0m, in \u001b[0;36mwrite_evokeds\u001b[1;34m(fname, evoked, on_mismatch, overwrite, verbose)\u001b[0m\n\u001b[0;32m   1949\u001b[0m \u001b[38;5;129m@verbose\u001b[39m\n\u001b[0;32m   1950\u001b[0m \u001b[38;5;28;01mdef\u001b[39;00m \u001b[38;5;21mwrite_evokeds\u001b[39m(fname, evoked, \u001b[38;5;241m*\u001b[39m, on_mismatch\u001b[38;5;241m=\u001b[39m\u001b[38;5;124m\"\u001b[39m\u001b[38;5;124mraise\u001b[39m\u001b[38;5;124m\"\u001b[39m, overwrite\u001b[38;5;241m=\u001b[39m\u001b[38;5;28;01mFalse\u001b[39;00m, verbose\u001b[38;5;241m=\u001b[39m\u001b[38;5;28;01mNone\u001b[39;00m):\n\u001b[0;32m   1951\u001b[0m \u001b[38;5;250m    \u001b[39m\u001b[38;5;124;03m\"\"\"Write an evoked dataset to a file.\u001b[39;00m\n\u001b[0;32m   1952\u001b[0m \n\u001b[0;32m   1953\u001b[0m \u001b[38;5;124;03m    Parameters\u001b[39;00m\n\u001b[1;32m   (...)\u001b[0m\n\u001b[0;32m   1978\u001b[0m \u001b[38;5;124;03m        via `mne.read_evokeds`.\u001b[39;00m\n\u001b[0;32m   1979\u001b[0m \u001b[38;5;124;03m    \"\"\"\u001b[39;00m\n\u001b[1;32m-> 1980\u001b[0m     \u001b[43m_write_evokeds\u001b[49m\u001b[43m(\u001b[49m\u001b[43mfname\u001b[49m\u001b[43m,\u001b[49m\u001b[43m \u001b[49m\u001b[43mevoked\u001b[49m\u001b[43m,\u001b[49m\u001b[43m \u001b[49m\u001b[43mon_mismatch\u001b[49m\u001b[38;5;241;43m=\u001b[39;49m\u001b[43mon_mismatch\u001b[49m\u001b[43m,\u001b[49m\u001b[43m \u001b[49m\u001b[43moverwrite\u001b[49m\u001b[38;5;241;43m=\u001b[39;49m\u001b[43moverwrite\u001b[49m\u001b[43m)\u001b[49m\n",
      "File \u001b[1;32m~\\anaconda3\\envs\\mne\\Lib\\site-packages\\mne\\evoked.py:1987\u001b[0m, in \u001b[0;36m_write_evokeds\u001b[1;34m(fname, evoked, check, on_mismatch, overwrite)\u001b[0m\n\u001b[0;32m   1984\u001b[0m \u001b[38;5;250m\u001b[39m\u001b[38;5;124;03m\"\"\"Write evoked data.\"\"\"\u001b[39;00m\n\u001b[0;32m   1985\u001b[0m \u001b[38;5;28;01mfrom\u001b[39;00m \u001b[38;5;21;01m.\u001b[39;00m\u001b[38;5;21;01mdipole\u001b[39;00m \u001b[38;5;28;01mimport\u001b[39;00m DipoleFixed  \u001b[38;5;66;03m# avoid circular import\u001b[39;00m\n\u001b[1;32m-> 1987\u001b[0m fname \u001b[38;5;241m=\u001b[39m \u001b[43m_check_fname\u001b[49m\u001b[43m(\u001b[49m\u001b[43mfname\u001b[49m\u001b[38;5;241;43m=\u001b[39;49m\u001b[43mfname\u001b[49m\u001b[43m,\u001b[49m\u001b[43m \u001b[49m\u001b[43moverwrite\u001b[49m\u001b[38;5;241;43m=\u001b[39;49m\u001b[43moverwrite\u001b[49m\u001b[43m)\u001b[49m\n\u001b[0;32m   1988\u001b[0m \u001b[38;5;28;01mif\u001b[39;00m check:\n\u001b[0;32m   1989\u001b[0m     check_fname(\n\u001b[0;32m   1990\u001b[0m         fname, \u001b[38;5;124m\"\u001b[39m\u001b[38;5;124mevoked\u001b[39m\u001b[38;5;124m\"\u001b[39m, (\u001b[38;5;124m\"\u001b[39m\u001b[38;5;124m-ave.fif\u001b[39m\u001b[38;5;124m\"\u001b[39m, \u001b[38;5;124m\"\u001b[39m\u001b[38;5;124m-ave.fif.gz\u001b[39m\u001b[38;5;124m\"\u001b[39m, \u001b[38;5;124m\"\u001b[39m\u001b[38;5;124m_ave.fif\u001b[39m\u001b[38;5;124m\"\u001b[39m, \u001b[38;5;124m\"\u001b[39m\u001b[38;5;124m_ave.fif.gz\u001b[39m\u001b[38;5;124m\"\u001b[39m)\n\u001b[0;32m   1991\u001b[0m     )\n",
      "File \u001b[1;32m<decorator-gen-0>:12\u001b[0m, in \u001b[0;36m_check_fname\u001b[1;34m(fname, overwrite, must_exist, name, need_dir, check_bids_split, verbose)\u001b[0m\n",
      "File \u001b[1;32m~\\anaconda3\\envs\\mne\\Lib\\site-packages\\mne\\utils\\check.py:260\u001b[0m, in \u001b[0;36m_check_fname\u001b[1;34m(fname, overwrite, must_exist, name, need_dir, check_bids_split, verbose)\u001b[0m\n\u001b[0;32m    258\u001b[0m \u001b[38;5;28;01mif\u001b[39;00m fname\u001b[38;5;241m.\u001b[39mexists():\n\u001b[0;32m    259\u001b[0m     \u001b[38;5;28;01mif\u001b[39;00m \u001b[38;5;129;01mnot\u001b[39;00m overwrite:\n\u001b[1;32m--> 260\u001b[0m         \u001b[38;5;28;01mraise\u001b[39;00m \u001b[38;5;167;01mFileExistsError\u001b[39;00m(\n\u001b[0;32m    261\u001b[0m             \u001b[38;5;124m\"\u001b[39m\u001b[38;5;124mDestination file exists. Please use option \u001b[39m\u001b[38;5;124m\"\u001b[39m\n\u001b[0;32m    262\u001b[0m             \u001b[38;5;124m'\u001b[39m\u001b[38;5;124m\"\u001b[39m\u001b[38;5;124moverwrite=True\u001b[39m\u001b[38;5;124m\"\u001b[39m\u001b[38;5;124m to force overwriting.\u001b[39m\u001b[38;5;124m'\u001b[39m\n\u001b[0;32m    263\u001b[0m         )\n\u001b[0;32m    264\u001b[0m     \u001b[38;5;28;01melif\u001b[39;00m overwrite \u001b[38;5;241m!=\u001b[39m \u001b[38;5;124m\"\u001b[39m\u001b[38;5;124mread\u001b[39m\u001b[38;5;124m\"\u001b[39m:\n\u001b[0;32m    265\u001b[0m         logger\u001b[38;5;241m.\u001b[39minfo(\u001b[38;5;124m\"\u001b[39m\u001b[38;5;124mOverwriting existing file.\u001b[39m\u001b[38;5;124m\"\u001b[39m)\n",
      "\u001b[1;31mFileExistsError\u001b[0m: Destination file exists. Please use option \"overwrite=True\" to force overwriting."
     ]
    }
   ],
   "source": [
    "# Saving evoked data\n",
    "mne.write_evokeds(fname=pathlib.Path('out_data') / 'evokeds_ave.fif',\n",
    "                  evoked=[evoked_closed, evoked_open])"
   ]
  },
  {
   "cell_type": "code",
   "execution_count": 21,
   "id": "4c20130d-e17e-455f-9a9c-9e00d2361553",
   "metadata": {},
   "outputs": [
    {
     "name": "stdout",
     "output_type": "stream",
     "text": [
      "Reading C:\\Users\\User\\Documents\\NYU\\MEG-EEG-pipeline\\out_data\\evokeds_ave.fif ...\n",
      "    Found the data of interest:\n",
      "        t =       0.00 ...    4999.00 ms (1)\n",
      "        0 CTF compensation matrices available\n",
      "        nave = 1 - aspect type = 100\n",
      "No projector specified for this dataset. Please consider the method self.add_proj.\n",
      "Loaded Evoked data is baseline-corrected (baseline: [0, 0] s)\n",
      "    Found the data of interest:\n",
      "        t =       0.00 ...    4999.00 ms (1)\n",
      "        0 CTF compensation matrices available\n",
      "        nave = 1 - aspect type = 100\n",
      "No projector specified for this dataset. Please consider the method self.add_proj.\n",
      "Loaded Evoked data is baseline-corrected (baseline: [0, 0] s)\n"
     ]
    }
   ],
   "source": [
    "# Reading evoked data\n",
    "evokeds = mne.read_evokeds(fname=pathlib.Path('out_data') / 'evokeds_ave.fif')"
   ]
  },
  {
   "cell_type": "code",
   "execution_count": 22,
   "id": "56af5ef9-0c55-466a-9c43-d48a4d7b174c",
   "metadata": {},
   "outputs": [
    {
     "name": "stdout",
     "output_type": "stream",
     "text": [
      "Embedding : jquery-3.6.0.min.js\n",
      "Embedding : bootstrap.bundle.min.js\n",
      "Embedding : bootstrap.min.css\n",
      "Embedding : bootstrap-table/bootstrap-table.min.js\n",
      "Embedding : bootstrap-table/bootstrap-table.min.css\n",
      "Embedding : bootstrap-table/bootstrap-table-copy-rows.min.js\n",
      "Embedding : bootstrap-table/bootstrap-table-export.min.js\n",
      "Embedding : bootstrap-table/tableExport.min.js\n",
      "Embedding : bootstrap-icons/bootstrap-icons.mne.min.css\n",
      "Embedding : highlightjs/highlight.min.js\n",
      "Embedding : highlightjs/atom-one-dark-reasonable.min.css\n"
     ]
    },
    {
     "name": "stderr",
     "output_type": "stream",
     "text": [
      "C:\\Users\\User\\anaconda3\\envs\\mne\\Lib\\site-packages\\joblib\\parallel.py:1847: RuntimeWarning: Estimated head radius (11.2 cm) is above the 99th percentile for adult head size.\n",
      "  res = func(*args, **kwargs)\n",
      "C:\\Users\\User\\anaconda3\\envs\\mne\\Lib\\site-packages\\joblib\\parallel.py:1847: RuntimeWarning: Estimated head radius (11.2 cm) is above the 99th percentile for adult head size.\n",
      "  res = func(*args, **kwargs)\n",
      "C:\\Users\\User\\anaconda3\\envs\\mne\\Lib\\site-packages\\joblib\\parallel.py:1847: RuntimeWarning: Estimated head radius (11.2 cm) is above the 99th percentile for adult head size.\n",
      "  res = func(*args, **kwargs)\n",
      "C:\\Users\\User\\anaconda3\\envs\\mne\\Lib\\site-packages\\joblib\\parallel.py:1847: RuntimeWarning: Estimated head radius (11.2 cm) is above the 99th percentile for adult head size.\n",
      "  res = func(*args, **kwargs)\n",
      "C:\\Users\\User\\anaconda3\\envs\\mne\\Lib\\site-packages\\joblib\\parallel.py:1847: RuntimeWarning: Estimated head radius (11.2 cm) is above the 99th percentile for adult head size.\n",
      "  res = func(*args, **kwargs)\n",
      "C:\\Users\\User\\anaconda3\\envs\\mne\\Lib\\site-packages\\joblib\\parallel.py:1847: RuntimeWarning: Estimated head radius (11.2 cm) is above the 99th percentile for adult head size.\n",
      "  res = func(*args, **kwargs)\n",
      "C:\\Users\\User\\anaconda3\\envs\\mne\\Lib\\site-packages\\joblib\\parallel.py:1847: RuntimeWarning: Estimated head radius (11.2 cm) is above the 99th percentile for adult head size.\n",
      "  res = func(*args, **kwargs)\n",
      "C:\\Users\\User\\anaconda3\\envs\\mne\\Lib\\site-packages\\joblib\\parallel.py:1847: RuntimeWarning: Estimated head radius (11.2 cm) is above the 99th percentile for adult head size.\n",
      "  res = func(*args, **kwargs)\n",
      "C:\\Users\\User\\anaconda3\\envs\\mne\\Lib\\site-packages\\joblib\\parallel.py:1847: RuntimeWarning: Estimated head radius (11.2 cm) is above the 99th percentile for adult head size.\n",
      "  res = func(*args, **kwargs)\n",
      "C:\\Users\\User\\anaconda3\\envs\\mne\\Lib\\site-packages\\joblib\\parallel.py:1847: RuntimeWarning: Estimated head radius (11.2 cm) is above the 99th percentile for adult head size.\n",
      "  res = func(*args, **kwargs)\n"
     ]
    },
    {
     "name": "stdout",
     "output_type": "stream",
     "text": [
      "Saving report to : C:\\Users\\User\\Documents\\NYU\\MEG-EEG-pipeline\\report_evoked.html\n"
     ]
    },
    {
     "data": {
      "text/plain": [
       "'C:\\\\Users\\\\User\\\\Documents\\\\NYU\\\\MEG-EEG-pipeline\\\\report_evoked.html'"
      ]
     },
     "execution_count": 22,
     "metadata": {},
     "output_type": "execute_result"
    }
   ],
   "source": [
    "report = mne.Report(title=\"Evoked\")\n",
    "report.add_evokeds(\n",
    "    evokeds=evokeds,\n",
    "    n_time_points=5,\n",
    ")\n",
    "report.save(\"report_evoked.html\", overwrite=True)"
   ]
  },
  {
   "cell_type": "code",
   "execution_count": null,
   "id": "9da5c0a6-5d00-4e50-9cc4-2d25fa8812df",
   "metadata": {},
   "outputs": [],
   "source": []
  }
 ],
 "metadata": {
  "kernelspec": {
   "display_name": "Python 3 (ipykernel)",
   "language": "python",
   "name": "python3"
  },
  "language_info": {
   "codemirror_mode": {
    "name": "ipython",
    "version": 3
   },
   "file_extension": ".py",
   "mimetype": "text/x-python",
   "name": "python",
   "nbconvert_exporter": "python",
   "pygments_lexer": "ipython3",
   "version": "3.12.2"
  }
 },
 "nbformat": 4,
 "nbformat_minor": 5
}
