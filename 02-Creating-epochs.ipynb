{
 "cells": [
  {
   "cell_type": "code",
   "execution_count": 1,
   "id": "1c42705f-645c-496c-ab42-79607fc916cc",
   "metadata": {},
   "outputs": [],
   "source": [
    "# Author: Saeed Zahran\n",
    "# Creating epochs and generating evoked responses\n",
    "\n",
    "import pathlib\n",
    "import matplotlib\n",
    "\n",
    "import mne\n",
    "import matplotlib.pyplot as plt\n",
    "matplotlib.use('Qt5Agg')"
   ]
  },
  {
   "cell_type": "code",
   "execution_count": 2,
   "id": "b8ec2ffc-e3e1-4961-a337-2f05bea9d3ad",
   "metadata": {},
   "outputs": [
    {
     "name": "stdout",
     "output_type": "stream",
     "text": [
      "Opening raw data file GS_01_analysis_01-raw.fif...\n",
      "    Range : 0 ... 119999 =      0.000 ...   119.999 secs\n",
      "Ready.\n",
      "Reading 0 ... 119999  =      0.000 ...   119.999 secs...\n",
      "Opening raw data file GS_02_analysis_01-raw.fif...\n",
      "    Range : 0 ... 541999 =      0.000 ...   541.999 secs\n",
      "Ready.\n",
      "Reading 0 ... 541999  =      0.000 ...   541.999 secs...\n"
     ]
    }
   ],
   "source": [
    "# Load the two raw data files\n",
    "raw1 = mne.io.read_raw_fif('GS_01_analysis_01-raw.fif', preload=True)\n",
    "raw2 = mne.io.read_raw_fif('GS_02_analysis_01-raw.fif', preload=True)\n",
    "raw = mne.io.concatenate_raws([raw1, raw2])"
   ]
  },
  {
   "cell_type": "code",
   "execution_count": 3,
   "id": "b1f5737f-0497-44e2-9203-c5aa44fa9955",
   "metadata": {},
   "outputs": [
    {
     "name": "stdout",
     "output_type": "stream",
     "text": [
      "Filtering raw data in 2 contiguous segments\n",
      "Setting up band-pass filter from 0.1 - 40 Hz\n",
      "\n",
      "FIR filter parameters\n",
      "---------------------\n",
      "Designing a one-pass, zero-phase, non-causal bandpass filter:\n",
      "- Windowed time-domain design (firwin) method\n",
      "- Hamming window with 0.0194 passband ripple and 53 dB stopband attenuation\n",
      "- Lower passband edge: 0.10\n",
      "- Lower transition bandwidth: 0.10 Hz (-6 dB cutoff frequency: 0.05 Hz)\n",
      "- Upper passband edge: 40.00 Hz\n",
      "- Upper transition bandwidth: 10.00 Hz (-6 dB cutoff frequency: 45.00 Hz)\n",
      "- Filter length: 33001 samples (33.001 s)\n",
      "\n"
     ]
    },
    {
     "name": "stderr",
     "output_type": "stream",
     "text": [
      "[Parallel(n_jobs=1)]: Done  17 tasks      | elapsed:    0.5s\n",
      "[Parallel(n_jobs=1)]: Done  71 tasks      | elapsed:    2.6s\n",
      "[Parallel(n_jobs=1)]: Done 161 tasks      | elapsed:    6.0s\n"
     ]
    },
    {
     "data": {
      "text/html": [
       "<details open>\n",
       "    <summary><strong>General</strong></summary>\n",
       "    <table class=\"table table-hover table-striped table-sm table-responsive small\">\n",
       "        <tr>\n",
       "            <th>Measurement date</th>\n",
       "            \n",
       "            <td>March 26, 2024  09:03:13 GMT</td>\n",
       "            \n",
       "        </tr>\n",
       "        <tr>\n",
       "            <th>Experimenter</th>\n",
       "            \n",
       "            <td>Unknown</td>\n",
       "            \n",
       "        </tr>\n",
       "        <tr>\n",
       "            <th>Participant</th>\n",
       "            \n",
       "            <td>Unknown</td>\n",
       "            \n",
       "        </tr>\n",
       "    </table>\n",
       "    </details>\n",
       "    <details open>\n",
       "        <summary><strong>Channels</strong></summary>\n",
       "        <table class=\"table table-hover table-striped table-sm table-responsive small\">\n",
       "            <tr>\n",
       "                <th>Digitized points</th>\n",
       "                \n",
       "                <td>2350 points</td>\n",
       "                \n",
       "            </tr>\n",
       "            <tr>\n",
       "                <th>Good channels</th>\n",
       "                <td>207 Magnetometers, 17 Reference Magnetometers, 32 misc, 1 Stimulus</td>\n",
       "            </tr>\n",
       "            <tr>\n",
       "                <th>Bad channels</th>\n",
       "                <td>None</td>\n",
       "            </tr>\n",
       "            <tr>\n",
       "                <th>EOG channels</th>\n",
       "                <td>Not available</td>\n",
       "            </tr>\n",
       "            <tr>\n",
       "                <th>ECG channels</th>\n",
       "                <td>Not available</td>\n",
       "            </tr>\n",
       "        </table>\n",
       "        </details>\n",
       "        <details open>\n",
       "            <summary><strong>Data</strong></summary>\n",
       "            <table class=\"table table-hover table-striped table-sm table-responsive small\">\n",
       "                \n",
       "                <tr>\n",
       "                    <th>Sampling frequency</th>\n",
       "                    <td>1000.00 Hz</td>\n",
       "                </tr>\n",
       "                \n",
       "                \n",
       "                <tr>\n",
       "                    <th>Highpass</th>\n",
       "                    <td>0.10 Hz</td>\n",
       "                </tr>\n",
       "                \n",
       "                \n",
       "                <tr>\n",
       "                    <th>Lowpass</th>\n",
       "                    <td>40.00 Hz</td>\n",
       "                </tr>\n",
       "                \n",
       "                \n",
       "                \n",
       "                <tr>\n",
       "                    <th>Filenames</th>\n",
       "                    <td>GS_01_analysis_01-raw.fif&lt;br&gt;GS_02_analysis_01-raw.fif</td>\n",
       "                </tr>\n",
       "                \n",
       "                \n",
       "                <tr>\n",
       "                    <th>Duration</th>\n",
       "                    <td>00:11:02 (HH:MM:SS)</td>\n",
       "                </tr>\n",
       "                \n",
       "            </table>\n",
       "            </details>"
      ],
      "text/plain": [
       "<Raw | GS_01_analysis_01-raw.fif, 257 x 662000 (662.0 s), ~1.27 GB, data loaded>"
      ]
     },
     "execution_count": 3,
     "metadata": {},
     "output_type": "execute_result"
    }
   ],
   "source": [
    "raw.filter(l_freq=0.1, h_freq=40)"
   ]
  },
  {
   "cell_type": "code",
   "execution_count": 4,
   "id": "53e48d82-79cb-4ca5-9baf-0d91ffe716ad",
   "metadata": {},
   "outputs": [
    {
     "name": "stdout",
     "output_type": "stream",
     "text": [
      "2 events found on stim channel STI 014\n",
      "Event IDs: [1 2]\n"
     ]
    }
   ],
   "source": [
    "events = mne.find_events(raw, stim_channel=\"STI 014\")\n",
    "event_id = {\n",
    "    \"eyes_closed\": 1,\n",
    "    \"eyes_open\": 2,\n",
    "}"
   ]
  },
  {
   "cell_type": "code",
   "execution_count": 5,
   "id": "ba8c0a39-e53e-4f6a-a29b-27ddc90abb5d",
   "metadata": {},
   "outputs": [
    {
     "name": "stdout",
     "output_type": "stream",
     "text": [
      "Not setting metadata\n",
      "132 matching events found\n",
      "No baseline correction applied\n",
      "0 projection items activated\n",
      "Using data from preloaded Raw for 132 events and 5000 original time points ...\n",
      "0 bad epochs dropped\n",
      "Applying baseline correction (mode: mean)\n",
      "Using qt as 2D backend.\n"
     ]
    },
    {
     "data": {
      "text/plain": [
       "<mne_qt_browser._pg_figure.MNEQtBrowser at 0x1317a5c8dd0>"
      ]
     },
     "execution_count": 5,
     "metadata": {},
     "output_type": "execute_result"
    },
    {
     "name": "stdout",
     "output_type": "stream",
     "text": [
      "Dropped 0 epochs: \n",
      "The following epochs were marked as bad and are dropped:\n",
      "[]\n",
      "Channels marked as bad:\n",
      "none\n"
     ]
    }
   ],
   "source": [
    "# Define the duration of each epoch (in seconds)\n",
    "epoch_duration = 5\n",
    "\n",
    "# Create fixed-length epochs for the entire concatenated raw data\n",
    "epochs = mne.make_fixed_length_epochs(raw, duration=epoch_duration, preload=True)\n",
    "\n",
    "\n",
    "\n",
    "# Apply baseline correction\n",
    "epochs.apply_baseline((0, 0))\n",
    "\n",
    "epochs.plot()"
   ]
  },
  {
   "cell_type": "code",
   "execution_count": 6,
   "id": "536de8c8-ce06-42a0-86b5-4b90602195e9",
   "metadata": {},
   "outputs": [
    {
     "name": "stdout",
     "output_type": "stream",
     "text": [
      "Not setting metadata\n",
      "132 matching events found\n",
      "No baseline correction applied\n",
      "0 projection items activated\n",
      "Not setting metadata\n",
      "132 matching events found\n",
      "No baseline correction applied\n",
      "0 projection items activated\n",
      "combining channels using RMS (mag channels)\n",
      "combining channels using \"gfp\"\n"
     ]
    },
    {
     "data": {
      "text/plain": [
       "[<Figure size 640x480 with 3 Axes>, <Figure size 640x480 with 3 Axes>]"
      ]
     },
     "execution_count": 6,
     "metadata": {},
     "output_type": "execute_result"
    }
   ],
   "source": [
    "epochs.plot_image()"
   ]
  },
  {
   "cell_type": "code",
   "execution_count": 7,
   "id": "f92320bf-0126-4017-bd11-6e3307fec396",
   "metadata": {},
   "outputs": [],
   "source": [
    "# Saving epochs\n",
    "epochs.save(pathlib.Path('out_data') / 'epochs_epo.fif',\n",
    "            overwrite=True)"
   ]
  },
  {
   "cell_type": "code",
   "execution_count": 9,
   "id": "1db1314e-b568-440c-93f4-7943b67687ba",
   "metadata": {},
   "outputs": [],
   "source": [
    "# Extract epochs for \"eyes closed\" and \"eyes open\" events using event IDs\n",
    "epochs_closed = epochs[event_id[\"eyes_closed\"]]\n",
    "epochs_open = epochs[event_id[\"eyes_open\"]]"
   ]
  },
  {
   "cell_type": "code",
   "execution_count": 10,
   "id": "15052cc6-d863-4794-85e9-d9b7340325fa",
   "metadata": {},
   "outputs": [
    {
     "name": "stderr",
     "output_type": "stream",
     "text": [
      "C:\\Users\\User\\AppData\\Local\\Temp\\ipykernel_17936\\3385494830.py:5: RuntimeWarning: Estimated head radius (11.2 cm) is above the 99th percentile for adult head size.\n",
      "  evoked_closed.plot(spatial_colors=True)\n"
     ]
    },
    {
     "data": {
      "text/plain": [
       "<Figure size 640x300 with 2 Axes>"
      ]
     },
     "execution_count": 10,
     "metadata": {},
     "output_type": "execute_result"
    }
   ],
   "source": [
    "# Creating evoked data\n",
    "evoked_closed = epochs_closed.average()\n",
    "evoked_open = epochs_open.average()\n",
    "\n",
    "evoked_closed.plot(spatial_colors=True)"
   ]
  },
  {
   "cell_type": "code",
   "execution_count": 11,
   "id": "dabf10a4-a1ee-48bc-b05a-a54a3dfd5f81",
   "metadata": {},
   "outputs": [],
   "source": [
    "# Saving evoked data\n",
    "mne.write_evokeds(fname=pathlib.Path('out_data') / 'evokeds_ave.fif',\n",
    "                  evoked=[evoked_closed, evoked_open])"
   ]
  },
  {
   "cell_type": "code",
   "execution_count": 12,
   "id": "4c20130d-e17e-455f-9a9c-9e00d2361553",
   "metadata": {},
   "outputs": [
    {
     "name": "stdout",
     "output_type": "stream",
     "text": [
      "Reading C:\\Users\\User\\Documents\\NYU\\MEG-EEG-pipeline\\out_data\\evokeds_ave.fif ...\n",
      "    Found the data of interest:\n",
      "        t =       0.00 ...    4999.00 ms (1)\n",
      "        0 CTF compensation matrices available\n",
      "        nave = 1 - aspect type = 100\n",
      "No projector specified for this dataset. Please consider the method self.add_proj.\n",
      "Loaded Evoked data is baseline-corrected (baseline: [0, 0] s)\n",
      "    Found the data of interest:\n",
      "        t =       0.00 ...    4999.00 ms (1)\n",
      "        0 CTF compensation matrices available\n",
      "        nave = 1 - aspect type = 100\n",
      "No projector specified for this dataset. Please consider the method self.add_proj.\n",
      "Loaded Evoked data is baseline-corrected (baseline: [0, 0] s)\n"
     ]
    }
   ],
   "source": [
    "# Reading evoked data\n",
    "evokeds = mne.read_evokeds(fname=pathlib.Path('out_data') / 'evokeds_ave.fif')"
   ]
  },
  {
   "cell_type": "code",
   "execution_count": null,
   "id": "56af5ef9-0c55-466a-9c43-d48a4d7b174c",
   "metadata": {},
   "outputs": [],
   "source": []
  }
 ],
 "metadata": {
  "kernelspec": {
   "display_name": "Python 3 (ipykernel)",
   "language": "python",
   "name": "python3"
  },
  "language_info": {
   "codemirror_mode": {
    "name": "ipython",
    "version": 3
   },
   "file_extension": ".py",
   "mimetype": "text/x-python",
   "name": "python",
   "nbconvert_exporter": "python",
   "pygments_lexer": "ipython3",
   "version": "3.12.2"
  }
 },
 "nbformat": 4,
 "nbformat_minor": 5
}
